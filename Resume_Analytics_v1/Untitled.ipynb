{
 "cells": [
  {
   "cell_type": "code",
   "execution_count": 1,
   "metadata": {},
   "outputs": [
    {
     "name": "stderr",
     "output_type": "stream",
     "text": [
      "D:\\ProgramData\\Anaconda3\\lib\\site-packages\\spacy\\util.py:275: UserWarning: [W031] Model 'en_training' (0.0.0) requires spaCy v2.2 and is incompatible with the current spaCy version (2.3.2). This may lead to unexpected results or runtime errors. To resolve this, download a newer compatible model or retrain your custom model with the current spaCy version. For more details and available updates, run: python -m spacy validate\n",
      "  warnings.warn(warn_msg)\n"
     ]
    }
   ],
   "source": [
    "from data_parser import resumeparse,base_path\n",
    "from file_reader import read_file\n",
    "import os\n",
    "import re\n",
    "from selenium import webdriver\n",
    "from bs4 import BeautifulSoup as bs\n",
    "import time\n",
    "from urllib.request import urlopen\n",
    "import json\n",
    "from pandas.io.json import json_normalize\n",
    "import pandas as pd, numpy as np\n",
    "import requests\n",
    "import itertools\n",
    "from explicit import waiter, XPATH\n",
    "from selenium.webdriver.support.ui import WebDriverWait\n",
    "from selenium.webdriver.support import expected_conditions as EC\n",
    "from selenium.webdriver.common.by import By\n",
    "from time import sleep\n",
    "from selenium.webdriver.support.ui import Select\n",
    "from selenium.webdriver.support.select import Select\n",
    "from selenium.webdriver.common.keys import Keys\n",
    "from selenium.webdriver.common.action_chains import ActionChains\n",
    "import nltk\n",
    "import spacy\n",
    "from spacy.matcher import Matcher\n",
    "from spacy.matcher import PhraseMatcher\n",
    "nlp = spacy.load('en_core_web_sm')\n",
    "\n",
    "job_link = 'https://www.jobserve.com/au/en/search-jobs-in-Sydney,-New-South-Wales,-Australia/SENIOR-SOFTWARE-ENGINEER-BACK-END-E598476747AB114630/'\n",
    "\n",
    "options = webdriver.ChromeOptions()\n",
    "options.add_argument(\"--start-maximized\")\n",
    "# options.add_argument('window-size=2560,1440')\n",
    "driver = webdriver.Chrome(chrome_options=options)\n",
    "driver.get('chrome://settings/')\n",
    "driver.execute_script('chrome.settingsPrivate.setDefaultZoom(0.5);')\n",
    "\n",
    "driver.get(job_link)\n",
    "\n",
    "overall_details = driver.find_element_by_class_name(\"LeftJobHeaderWrapper\").text.split(\"\\n\")\n",
    "\n",
    "md_skills = driver.find_element_by_id('md_skills').text.split(\"\\n\\n\")\n",
    "\n",
    "industry = driver.find_element_by_id('md_industry').text\n",
    "\n",
    "> Data captured from jobposting\n",
    "\n",
    "print(overall_details)\n",
    "print(industry)\n",
    "\n",
    "file = ''\n",
    "base_path = os.path.dirname(file)\n",
    "file = os.path.join(base_path,\"SKILLS.txt\")\n",
    "file = open(file, \"r\", encoding='utf-8')    \n",
    "skill = [line.strip().lower() for line in file]\n",
    "skillsmatcher = PhraseMatcher(nlp.vocab)\n",
    "patterns = [nlp.make_doc(text) for text in skill if len(nlp.make_doc(text)) < 10]\n",
    "skillsmatcher.add(\"Job title\", None, *patterns)\n",
    "\n",
    "matched_skills = []\n",
    "matched_requirements = []\n",
    "\n",
    "if len(md_skills)>1:\n",
    "    for prim_skill in skill:\n",
    "        for match_string in md_skills:\n",
    "            for lookup_string in match_string.split('\\n'):\n",
    "                for match in lookup_string.split():\n",
    "                    if prim_skill.lower()==match.lower():\n",
    "                        matched_requirements.append(lookup_string)\n",
    "                        matched_skills.append(prim_skill)\n",
    "else:\n",
    "    for prim_skill in skill:\n",
    "        for match_string in md_skills[0].split('\\n'):\n",
    "            for match in match_string.split():\n",
    "                if prim_skill.lower() == match.lower():\n",
    "                    matched_requirements.append(match_string)\n",
    "                    matched_skills.append(prim_skill)\n",
    "\n",
    "matched_skills\n",
    "\n",
    "job_dict = {'skill':matched_skills,'requirement':matched_requirements}\n",
    "\n",
    "job_data = pd.DataFrame(job_dict)\n",
    "\n",
    "job_data.drop_duplicates(inplace=True)\n",
    "\n",
    "common_skills= []\n",
    "counter=0\n",
    "\n",
    "for skill in resume_skills:\n",
    "    if skill.lower() in list(job_data['skill']):\n",
    "        common_skills.append(skill)\n",
    "        counter+=1"
   ]
  },
  {
   "cell_type": "code",
   "execution_count": 6,
   "metadata": {},
   "outputs": [],
   "source": [
    "from job_posting import job_posting"
   ]
  },
  {
   "cell_type": "code",
   "execution_count": 8,
   "metadata": {},
   "outputs": [],
   "source": [
    "link = 'https://www.jobserve.com/au/en/search-jobs-in-Sydney,-New-South-Wales,-Australia/SOFTWARE-ENGINEER-8AEFED7550B6B82E0E/'"
   ]
  },
  {
   "cell_type": "code",
   "execution_count": 10,
   "metadata": {},
   "outputs": [
    {
     "name": "stdout",
     "output_type": "stream",
     "text": [
      "['Software Engineer', 'Sydney, Sydney - AUD', 'Permanent', 'Posted by: Randstad Technologies', 'Posted: Wednesday, 23 December 2020', 'Apply']\n",
      "IT\n"
     ]
    },
    {
     "ename": "NameError",
     "evalue": "name 'resume_skills' is not defined",
     "output_type": "error",
     "traceback": [
      "\u001b[1;31m---------------------------------------------------------------------------\u001b[0m",
      "\u001b[1;31mNameError\u001b[0m                                 Traceback (most recent call last)",
      "\u001b[1;32m<ipython-input-10-95ae4efa4c8b>\u001b[0m in \u001b[0;36m<module>\u001b[1;34m\u001b[0m\n\u001b[1;32m----> 1\u001b[1;33m \u001b[0mjob_data\u001b[0m\u001b[1;33m,\u001b[0m\u001b[0mcommon_skills\u001b[0m\u001b[1;33m,\u001b[0m\u001b[0mcounter\u001b[0m\u001b[1;33m=\u001b[0m \u001b[0mjob_posting\u001b[0m\u001b[1;33m(\u001b[0m\u001b[0mlink\u001b[0m\u001b[1;33m)\u001b[0m\u001b[1;33m\u001b[0m\u001b[1;33m\u001b[0m\u001b[0m\n\u001b[0m",
      "\u001b[1;32m~\\Downloads\\Deployment\\Resume_Analytics_v1\\job_posting.py\u001b[0m in \u001b[0;36mjob_posting\u001b[1;34m(link)\u001b[0m\n\u001b[0;32m     88\u001b[0m     \u001b[0mcounter\u001b[0m\u001b[1;33m=\u001b[0m\u001b[1;36m0\u001b[0m\u001b[1;33m\u001b[0m\u001b[1;33m\u001b[0m\u001b[0m\n\u001b[0;32m     89\u001b[0m \u001b[1;33m\u001b[0m\u001b[0m\n\u001b[1;32m---> 90\u001b[1;33m     \u001b[1;32mfor\u001b[0m \u001b[0mskill\u001b[0m \u001b[1;32min\u001b[0m \u001b[0mresume_skills\u001b[0m\u001b[1;33m:\u001b[0m\u001b[1;33m\u001b[0m\u001b[1;33m\u001b[0m\u001b[0m\n\u001b[0m\u001b[0;32m     91\u001b[0m         \u001b[1;32mif\u001b[0m \u001b[0mskill\u001b[0m\u001b[1;33m.\u001b[0m\u001b[0mlower\u001b[0m\u001b[1;33m(\u001b[0m\u001b[1;33m)\u001b[0m \u001b[1;32min\u001b[0m \u001b[0mlist\u001b[0m\u001b[1;33m(\u001b[0m\u001b[0mjob_data\u001b[0m\u001b[1;33m[\u001b[0m\u001b[1;34m'skill'\u001b[0m\u001b[1;33m]\u001b[0m\u001b[1;33m)\u001b[0m\u001b[1;33m:\u001b[0m\u001b[1;33m\u001b[0m\u001b[1;33m\u001b[0m\u001b[0m\n\u001b[0;32m     92\u001b[0m             \u001b[0mcommon_skills\u001b[0m\u001b[1;33m.\u001b[0m\u001b[0mappend\u001b[0m\u001b[1;33m(\u001b[0m\u001b[0mskill\u001b[0m\u001b[1;33m)\u001b[0m\u001b[1;33m\u001b[0m\u001b[1;33m\u001b[0m\u001b[0m\n",
      "\u001b[1;31mNameError\u001b[0m: name 'resume_skills' is not defined"
     ]
    }
   ],
   "source": [
    "job_data,common_skills,counter= job_posting(link)"
   ]
  },
  {
   "cell_type": "code",
   "execution_count": null,
   "metadata": {},
   "outputs": [],
   "source": []
  }
 ],
 "metadata": {
  "kernelspec": {
   "display_name": "Python 3",
   "language": "python",
   "name": "python3"
  },
  "language_info": {
   "codemirror_mode": {
    "name": "ipython",
    "version": 3
   },
   "file_extension": ".py",
   "mimetype": "text/x-python",
   "name": "python",
   "nbconvert_exporter": "python",
   "pygments_lexer": "ipython3",
   "version": "3.7.6"
  }
 },
 "nbformat": 4,
 "nbformat_minor": 4
}
