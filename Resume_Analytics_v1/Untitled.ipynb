{
 "cells": [
  {
   "cell_type": "code",
   "execution_count": 6,
   "metadata": {},
   "outputs": [],
   "source": [
    "# from file_reader import read_file\n",
    "from data_parser import resumeparse,base_path\n",
    "from file_reader import read_file\n",
    "import os\n",
    "import json\n",
    "import re\n",
    "import sys\n",
    "\n",
    "def main(file):\n",
    "      \n",
    "        resume_lines,num_pages = read_file(file)\n",
    "        num_of_words = len(resume_lines)\n",
    "        resume_segments = resumeparse.segment(resume_lines)\n",
    "        \n",
    "        \n",
    "        full_text = \" \".join(resume_lines)\n",
    "        \n",
    "        email = resumeparse.extract_email(full_text)\n",
    "        phone = resumeparse.find_phone(full_text)\n",
    "        name = resumeparse.extract_name(\" \".join(resume_segments['contact_info']))\n",
    "        total_exp, text = resumeparse.get_experience(resume_segments)\n",
    "        university = resumeparse.extract_university(full_text, os.path.join(base_path,'data_files','world-universities.csv'))\n",
    "\n",
    "        designition = resumeparse.job_designition(full_text)\n",
    "        designition = list(dict.fromkeys(designition).keys())\n",
    "\n",
    "        degree = resumeparse.get_degree(full_text)\n",
    "        degree2 = resumeparse.extract_degree(full_text)\n",
    "        \n",
    "        skills = \"\"\n",
    "        \n",
    "        if len(resume_segments['skills'].keys()):\n",
    "            for key , values in resume_segments['skills'].items():\n",
    "                mod_values = [val for val in values if len(val.split()) <10]\n",
    "                add_skill = re.sub(key, '', \",\".join(mod_values), flags=re.IGNORECASE)\n",
    "                \n",
    "                skills +=  add_skill  \n",
    "                \n",
    "            skills = skills.strip().strip(\",\").split(\",\")\n",
    "        \n",
    "        if len(skills) == 0:\n",
    "            skills = resumeparse.extract_skills(full_text)\n",
    "        skills = list(dict.fromkeys(skills).keys())\n",
    "        num_skills = len(skills)\n",
    "        \n",
    "        final_degree = list(set(degree + degree2)) \n",
    "        output = {\n",
    "            \"num_pages\" : num_pages,\n",
    "            \"num_of_words\":num_of_words,\n",
    "            \"email\": email,\n",
    "            \"phone\": phone,\n",
    "            \"name\": name,\n",
    "            \"total_exp\": total_exp,\n",
    "            \"university\": university,\n",
    "            \"designition\": designition,\n",
    "            \"degree\": final_degree,\n",
    "            \"skills\": skills,\n",
    "            \"number_of_skills\":num_skills\n",
    "            \n",
    "        }\n",
    "        with open('output.json','w') as outfile:\n",
    "            json.dump(output,outfile)\n",
    "        return output\n",
    "    \n",
    "    "
   ]
  },
  {
   "cell_type": "code",
   "execution_count": 7,
   "metadata": {},
   "outputs": [
    {
     "data": {
      "text/plain": [
       "{'num_pages': 4,\n",
       " 'num_of_words': 131,\n",
       " 'email': 'abhinavsatija786@gmail.com',\n",
       " 'phone': '+918130157713',\n",
       " 'name': 'Vestaa Lushes',\n",
       " 'total_exp': 3,\n",
       " 'university': [],\n",
       " 'designition': ['sr. consultant', 'software engineer'],\n",
       " 'degree': ['B.Tech'],\n",
       " 'skills': ['◆ PROGRAMMING LANGUAGE',\n",
       "  '❖ Core Java ',\n",
       "  ' Kotlin ',\n",
       "  'C++',\n",
       "  'https://naukriempire.com/tata_allied_app/PDI_Application.apk',\n",
       "  'https://play.google.com/store/apps/details?id=com.stubuz.aquad',\n",
       "  'https://play.google.com/store/apps/details?id=com.sigrideducation.testlytics&hl=en',\n",
       "  'https://play.google.com/store/apps/details?id=in.appsyouneed.ultimatesecurity',\n",
       "  '4',\n",
       "  '◆ OS PLATEFORM',\n",
       "  '❖ Windows XP',\n",
       "  ' Window 7',\n",
       "  'Windows 10',\n",
       "  ' Linux',\n",
       "  '◆ TOOLS',\n",
       "  '❖ Android Studio',\n",
       "  ' Eclipse',\n",
       "  ' Postman'],\n",
       " 'number_of_skills': 18}"
      ]
     },
     "execution_count": 7,
     "metadata": {},
     "output_type": "execute_result"
    }
   ],
   "source": [
    "main('Abhinav Satija_Android Developer_Bangalore_5 yrs_Exp.pdf')"
   ]
  },
  {
   "cell_type": "code",
   "execution_count": null,
   "metadata": {},
   "outputs": [],
   "source": []
  }
 ],
 "metadata": {
  "kernelspec": {
   "display_name": "Python 3",
   "language": "python",
   "name": "python3"
  },
  "language_info": {
   "codemirror_mode": {
    "name": "ipython",
    "version": 3
   },
   "file_extension": ".py",
   "mimetype": "text/x-python",
   "name": "python",
   "nbconvert_exporter": "python",
   "pygments_lexer": "ipython3",
   "version": "3.7.6"
  }
 },
 "nbformat": 4,
 "nbformat_minor": 2
}
