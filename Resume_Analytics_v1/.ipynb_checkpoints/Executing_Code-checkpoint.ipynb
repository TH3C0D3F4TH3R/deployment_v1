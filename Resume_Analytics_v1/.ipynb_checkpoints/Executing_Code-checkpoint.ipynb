{
 "cells": [
  {
   "cell_type": "code",
   "execution_count": 1,
   "metadata": {},
   "outputs": [
    {
     "name": "stderr",
     "output_type": "stream",
     "text": [
      "D:\\ProgramData\\Anaconda3\\lib\\site-packages\\spacy\\util.py:275: UserWarning: [W031] Model 'en_training' (0.0.0) requires spaCy v2.2 and is incompatible with the current spaCy version (2.3.2). This may lead to unexpected results or runtime errors. To resolve this, download a newer compatible model or retrain your custom model with the current spaCy version. For more details and available updates, run: python -m spacy validate\n",
      "  warnings.warn(warn_msg)\n"
     ]
    }
   ],
   "source": [
    "from data_parser import resumeparse,base_path\n",
    "from file_reader import read_file\n",
    "import os\n",
    "import re\n",
    "from selenium import webdriver\n",
    "from bs4 import BeautifulSoup as bs\n",
    "import time\n",
    "from urllib.request import urlopen\n",
    "import json\n",
    "from pandas.io.json import json_normalize\n",
    "import pandas as pd, numpy as np\n",
    "import requests\n",
    "import itertools\n",
    "from explicit import waiter, XPATH\n",
    "from selenium.webdriver.support.ui import WebDriverWait\n",
    "from selenium.webdriver.support import expected_conditions as EC\n",
    "from selenium.webdriver.common.by import By\n",
    "from time import sleep\n",
    "from selenium.webdriver.support.ui import Select\n",
    "from selenium.webdriver.support.select import Select\n",
    "from selenium.webdriver.common.keys import Keys\n",
    "from selenium.webdriver.common.action_chains import ActionChains\n",
    "import nltk\n",
    "import spacy\n",
    "from spacy.matcher import Matcher\n",
    "from spacy.matcher import PhraseMatcher\n",
    "nlp = spacy.load('en_core_web_sm')\n"
   ]
  },
  {
   "cell_type": "code",
   "execution_count": 2,
   "metadata": {},
   "outputs": [],
   "source": [
    "from job_posting import job_posting"
   ]
  },
  {
   "cell_type": "code",
   "execution_count": 3,
   "metadata": {},
   "outputs": [],
   "source": [
    "from resume_reader_main import main"
   ]
  },
  {
   "cell_type": "code",
   "execution_count": 4,
   "metadata": {},
   "outputs": [],
   "source": [
    "link = 'https://www.jobserve.com/au/en/search-jobs-in-Sydney,-New-South-Wales,-Australia/SOFTWARE-ENGINEER-8AEFED7550B6B82E0E/'"
   ]
  },
  {
   "cell_type": "code",
   "execution_count": 5,
   "metadata": {},
   "outputs": [
    {
     "name": "stdout",
     "output_type": "stream",
     "text": [
      "['Software Engineer', 'Sydney, Sydney - AUD', 'Permanent', 'Posted by: Randstad Technologies', 'Posted: Wednesday, 23 December 2020', 'Apply']\n",
      "IT\n"
     ]
    },
    {
     "data": {
      "text/plain": [
       "{'num_pages': 3,\n",
       " 'email': 'AKHIL.SINGH97@GMAIL.COM',\n",
       " 'phone': '(+91)-9971847660',\n",
       " 'name': 'AKHIL SINGH',\n",
       " 'total_exp': 4,\n",
       " 'university': [],\n",
       " 'designition': ['web developer', 'application support'],\n",
       " 'degree': [],\n",
       " 'skills': ['\\u200b- JavaScript',\n",
       "  ' HTML5',\n",
       "  ' CSS3',\n",
       "  ' Object Oriented Programming.',\n",
       "  'Framework/Libraries \\u200b– Angular7',\n",
       "  ' Angular2',\n",
       "  ' Bootstrap',\n",
       "  ' jQuery',\n",
       "  ' Highcharts',\n",
       "  ' KendoUI',\n",
       "  'Others\\u200b: Git',\n",
       "  ' JIRA'],\n",
       " 'matched_skills': ['None'],\n",
       " 'job_requirement_phrase': [\"Provide application support to customer sites either remotely or at customer's premises\",\n",
       "  \"Ensure uptime and availability of warehouse automation sites as per the agreed SLA's\",\n",
       "  'Knowledge of warehouse management processes and automation highly desirable.',\n",
       "  \"Ensure uptime and availability of warehouse automation sites as per the agreed SLA's\",\n",
       "  'Provide availability and timely technical support to sites in the production environment',\n",
       "  'Experience with development tools such as Eclipse, Jenkins, GIT, SVN, CVS',\n",
       "  'Participate in commissioning and testing at customer sites as required',\n",
       "  \"Provide application support to customer sites either remotely or at customer's premises\",\n",
       "  'Participate in commissioning and testing at customer sites as required',\n",
       "  'Development experience using Java, HTML, CSS, Java EE 7/Java EE 8/JPA 2.x/',\n",
       "  'Development experience using Java, HTML, CSS, Java EE 7/Java EE 8/JPA 2.x/Hibernate/JUnit.',\n",
       "  'with cutting edge technology.',\n",
       "  'Leading International supplier of logistics requires 3 x Software Support Engineers for their Western',\n",
       "  'Development experience using Java, HTML, CSS, Java EE 7/Java EE 8/JPA 2.x/',\n",
       "  'Development experience using Java, HTML, CSS, Java EE 7/Java EE 8/JPA 2.x/Hibernate/JUnit.',\n",
       "  \"Provide application support to customer sites either remotely or at customer's premises\",\n",
       "  'Strong SQL (Oracle, Microsoft)',\n",
       "  'Participate in commissioning and testing at customer sites as required',\n",
       "  'The role may require travel within Australia and New Zealand',\n",
       "  \"Ensure uptime and availability of warehouse automation sites as per the agreed SLA's\",\n",
       "  'Experience with automated environments, WMS, MFS, and WCS solutions',\n",
       "  'Leading International supplier of logistics requires 3 x Software Support Engineers for their Western'],\n",
       " 'Job_skills_requirement': ['application',\n",
       "  'automation',\n",
       "  'automation',\n",
       "  'availability',\n",
       "  'availability',\n",
       "  'cvs',\n",
       "  'commissioning',\n",
       "  'customer',\n",
       "  'customer',\n",
       "  'ee',\n",
       "  'ee',\n",
       "  'edge',\n",
       "  'engineers',\n",
       "  'java',\n",
       "  'java',\n",
       "  'premises',\n",
       "  'sql',\n",
       "  'testing',\n",
       "  'travel',\n",
       "  'uptime',\n",
       "  'wcs',\n",
       "  'x']}"
      ]
     },
     "execution_count": 5,
     "metadata": {},
     "output_type": "execute_result"
    }
   ],
   "source": [
    "main('Akhil singh_Javasccript developer_Hyderabad_5 yrs_exp.pdf',link)"
   ]
  },
  {
   "cell_type": "code",
   "execution_count": null,
   "metadata": {},
   "outputs": [],
   "source": []
  },
  {
   "cell_type": "code",
   "execution_count": null,
   "metadata": {},
   "outputs": [],
   "source": []
  }
 ],
 "metadata": {
  "kernelspec": {
   "display_name": "Python 3",
   "language": "python",
   "name": "python3"
  },
  "language_info": {
   "codemirror_mode": {
    "name": "ipython",
    "version": 3
   },
   "file_extension": ".py",
   "mimetype": "text/x-python",
   "name": "python",
   "nbconvert_exporter": "python",
   "pygments_lexer": "ipython3",
   "version": "3.7.6"
  }
 },
 "nbformat": 4,
 "nbformat_minor": 4
}
