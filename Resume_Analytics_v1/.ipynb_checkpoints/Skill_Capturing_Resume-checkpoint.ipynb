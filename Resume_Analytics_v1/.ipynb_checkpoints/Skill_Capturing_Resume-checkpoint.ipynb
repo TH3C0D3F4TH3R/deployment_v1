{
 "cells": [
  {
   "cell_type": "code",
   "execution_count": 1,
   "metadata": {},
   "outputs": [
    {
     "name": "stderr",
     "output_type": "stream",
     "text": [
      "D:\\ProgramData\\Anaconda3\\lib\\site-packages\\spacy\\util.py:275: UserWarning: [W031] Model 'en_training' (0.0.0) requires spaCy v2.2 and is incompatible with the current spaCy version (2.3.2). This may lead to unexpected results or runtime errors. To resolve this, download a newer compatible model or retrain your custom model with the current spaCy version. For more details and available updates, run: python -m spacy validate\n",
      "  warnings.warn(warn_msg)\n"
     ]
    }
   ],
   "source": [
    "from data_parser import resumeparse,base_path\n",
    "from file_reader import read_file\n",
    "import os\n",
    "import re\n",
    "import time\n",
    "from urllib.request import urlopen\n",
    "import json\n",
    "from pandas.io.json import json_normalize\n",
    "import pandas as pd, numpy as np\n",
    "import requests\n",
    "import nltk\n",
    "import spacy\n",
    "from spacy.matcher import Matcher\n",
    "from spacy.matcher import PhraseMatcher\n",
    "nlp = spacy.load('en_core_web_sm')\n",
    "import itertools\n",
    "import collections\n",
    "from bs4 import BeautifulSoup\n",
    "from rake_nltk import Rake"
   ]
  },
  {
   "cell_type": "code",
   "execution_count": 23,
   "metadata": {},
   "outputs": [
    {
     "data": {
      "text/plain": [
       "['[image: C:\\\\Users\\\\Welcome\\\\AppData\\\\Local\\\\Temp\\\\EminenceIT Logo-2.png] [image: Description: C:\\\\Documents and Settings\\\\user\\\\Local Settings\\\\Temporary Internet Files\\\\Content.Word\\\\csa.jpg]',\n",
       " 'Akash Sharma',\n",
       " 'Career Summary',\n",
       " '· Certified Senior System Architect 7.2 in PRPC from Pega Systems Inc. and Certified System Architect 7.1 in PRPC from Pega Systems Inc.',\n",
       " '· 5 years of Pega Experience in which includes Development,testing(unit,integration), support, implementation and documentation of BPM – PEGA/PRPC (Pega Rules Process Commander).',\n",
       " '· Proficient in Pegatroubleshooting.',\n",
       " '· Dynamic Team player with the ability to communicate effectively at all levels of the development.',\n",
       " '· As a core team member, I have worked in many areas of PRPC which includes configuring Flows, Flow Actions, Harness rules, Section rules, Data Table, Correspondence rules, Activities.',\n",
       " 'Core Expertise',\n",
       " 'BPM Tools',\n",
       " 'PRPC V5.5, V6.2, V6.3, V7.1.4, V7.2, V8.3',\n",
       " 'Databases',\n",
       " 'SQL SERVER',\n",
       " 'Language',\n",
       " 'C, C++, CoreJAVA',\n",
       " 'Web Technologies',\n",
       " 'HTML,JavaScript,PHP',\n",
       " 'Application server',\n",
       " 'Tomcat 6.0, JBoss',\n",
       " 'Test Management Tool',\n",
       " 'HP Quality Centre',\n",
       " 'Operating systems',\n",
       " 'Windows, Linux, UNIX',\n",
       " 'Educational Qualifications',\n",
       " '· B.Tech in Computer Science& Engineering from Shri Guru GobindSinghji Institute of Engineering & Technology, Nanded(Maharashtra).',\n",
       " 'Achievements & Certifications',\n",
       " '· Secured PRPC System Architect Certification in 7.1 with 87%, from Pega Systems Inc.',\n",
       " '· Secured PRPC System Architect Certification in 7.2 with 80%, from Pega Systems Inc.',\n",
       " 'Experience',\n",
       " 'Current Project OPTPlatform',\n",
       " '· Duration. January 2017 –Today',\n",
       " '· Client Major Banks across the globe',\n",
       " '· Domain Payment Processing',\n",
       " '· Environment PegaRULES Process Commander (v7.4)',\n",
       " '· Organization Total Systems',\n",
       " '· Role Senior Developer',\n",
       " 'Project Description:',\n",
       " 'Delivering products to various Banks across the globe. Developing workflows for Banks and enhancing them. Providing solutions to Consumer as well as Commercial clients.',\n",
       " 'Role and Responsibility:',\n",
       " '· Client interaction to define and gather business requirements and providing appropriate technical consultancy.',\n",
       " \"· Creating Rulesets and Classes for the application with the help of Architect's.\",\n",
       " '· Creating rules like Properties and Activities for the concerned classes.',\n",
       " '· Creating user Interface through Harness and Sections rules.',\n",
       " '· Designing Flows for proper execution of the work object.',\n",
       " '· Involved in PRPC Deployments.',\n",
       " '· Implementing and sending correspondence to different work parties using Notify shape and Activities.',\n",
       " '· Defined PRPC components like Decision tables, Decision trees, Declarative expressions.',\n",
       " '· Created Report definition for the reporting purpose in the process commander.',\n",
       " '· Involved in debugging of application using PRPC tools like Rules Inspector, Clipboard and Tracer.',\n",
       " '· Involved in Designing, Technical documentation and Testing different scenarios viz., Bug',\n",
       " '· Involved in Migration of Ruleset version to another environment Eg. From Dev to QA',\n",
       " 'Past Project OPTPlatform',\n",
       " '· [bookmark: _GoBack]Duration. July 2014 – December 2016',\n",
       " '· Client One of the Leading Insurance Company in U.S.',\n",
       " '· Domain Insurance',\n",
       " '· Environment PegaRULES Process Commander (v6.3)',\n",
       " '· Organization Cognizant Technology Solutions',\n",
       " '· Role Developer',\n",
       " '· Team Size 12',\n",
       " 'Project Description:',\n",
       " 'Client is one of the leading Insurance Company in U.S. They give services for several Line of Business such as Monoline Auto, Habitational, Hospitality, Artisan Contractor, Retail, Restaurant, Real Esate and Workers Compensation.']"
      ]
     },
     "execution_count": 23,
     "metadata": {},
     "output_type": "execute_result"
    }
   ],
   "source": [
    "from data_parser import resumeparse,base_path\n",
    "from file_reader import read_file\n",
    "\n",
    "# resume_lines,num_pages = read_file('Resume/Akhil singh_Javasccript developer_Hyderabad_5 yrs_exp.pdf')\n",
    "resume_lines,num_pages = read_file('Resume/Akash sharma_Pega CSSA_Pune_5 yrs_exp.docx')\n",
    "\n",
    "resume_lines"
   ]
  },
  {
   "cell_type": "code",
   "execution_count": 24,
   "metadata": {},
   "outputs": [],
   "source": [
    "resume_text =' '.join(elem for elem in resume_lines)"
   ]
  },
  {
   "cell_type": "code",
   "execution_count": 26,
   "metadata": {},
   "outputs": [
    {
     "data": {
      "text/plain": [
       "['· organization cognizant technology solutions · role developer · team size 12 project description',\n",
       " 'jboss test management tool hp quality centre operating systems windows',\n",
       " '· organization total systems · role senior developer project description',\n",
       " 'akash sharma career summary · certified senior system architect 7',\n",
       " 'globe · domain payment processing · environment pegarules process commander',\n",
       " 'january 2017 – today · client major banks across',\n",
       " '· domain insurance · environment pegarules process commander',\n",
       " 'testing different scenarios viz ., bug · involved',\n",
       " 'july 2014 – december 2016 · client one',\n",
       " 'certifications · secured prpc system architect certification',\n",
       " '· defined prpc components like decision tables',\n",
       " 'application using prpc tools like rules inspector',\n",
       " '· secured prpc system architect certification',\n",
       " 'different work parties using notify shape',\n",
       " 'c ++, corejava web technologies html',\n",
       " 'experience current project optplatform · duration',\n",
       " 'core expertise bpm tools prpc v5',\n",
       " '3 databases sql server language c',\n",
       " 'qa past project optplatform ·',\n",
       " 'unix educational qualifications · b',\n",
       " '· creating rules like properties',\n",
       " 'php application server tomcat 6',\n",
       " 'certified system architect 7',\n",
       " 'pega rules process commander ).',\n",
       " '· dynamic team player',\n",
       " '· created report definition',\n",
       " '· creating user interface',\n",
       " 'shri guru gobindsinghji institute',\n",
       " '· client interaction',\n",
       " 'core team member',\n",
       " 'bpm – pega',\n",
       " 'providing appropriate technical consultancy',\n",
       " 'pega systems inc',\n",
       " '· creating rulesets',\n",
       " 'various banks across',\n",
       " 'another environment eg',\n",
       " 'process commander',\n",
       " '· involved',\n",
       " '· designing flows',\n",
       " '· 5 years',\n",
       " 'leading insurance company',\n",
       " 'providing solutions',\n",
       " 'c :\\\\ users',\n",
       " 'c :\\\\ documents',\n",
       " 'temporary internet files',\n",
       " 'integration ), support',\n",
       " '· proficient',\n",
       " '· implementing',\n",
       " 'includes configuring flows',\n",
       " 'role',\n",
       " 'description',\n",
       " 'gather business requirements',\n",
       " 'technology',\n",
       " 'pega experience',\n",
       " 'prpc deployments',\n",
       " '·',\n",
       " 'decision trees',\n",
       " 'work object',\n",
       " 'architect',\n",
       " 'sections rules',\n",
       " 'section rules',\n",
       " 'correspondence rules',\n",
       " 'maharashtra ).',\n",
       " 'globe',\n",
       " 'client',\n",
       " 'prpc',\n",
       " 'harness rules',\n",
       " '7',\n",
       " 'testing',\n",
       " 'technical documentation',\n",
       " 'one',\n",
       " 'banks',\n",
       " 'application',\n",
       " 'workers compensation',\n",
       " 'several line',\n",
       " 'sending correspondence',\n",
       " 'ruleset version',\n",
       " 'reporting purpose',\n",
       " 'real esate',\n",
       " 'proper execution',\n",
       " 'monoline auto',\n",
       " 'many areas',\n",
       " 'includes development',\n",
       " 'give services',\n",
       " 'flow actions',\n",
       " 'eminenceit logo',\n",
       " 'developing workflows',\n",
       " 'delivering products',\n",
       " 'declarative expressions',\n",
       " 'data table',\n",
       " 'computer science',\n",
       " 'communicate effectively',\n",
       " 'commercial clients',\n",
       " 'artisan contractor',\n",
       " '87 %,',\n",
       " '80 %,',\n",
       " 'duration',\n",
       " 'concerned classes',\n",
       " '3',\n",
       " 'local settings',\n",
       " 'user',\n",
       " 'designing',\n",
       " 'business',\n",
       " '5',\n",
       " 'settings',\n",
       " 'local',\n",
       " 'harness',\n",
       " 'documentation',\n",
       " 'development',\n",
       " 'classes',\n",
       " 'worked',\n",
       " 'word',\n",
       " 'well',\n",
       " 'welcome',\n",
       " 'v8',\n",
       " 'v7',\n",
       " 'v6',\n",
       " 'unit',\n",
       " 'u',\n",
       " 'tracer',\n",
       " 'temp',\n",
       " 'tech',\n",
       " 'retail',\n",
       " 'restaurant',\n",
       " 'responsibility',\n",
       " 'png',\n",
       " 'pegatroubleshooting',\n",
       " 'nanded',\n",
       " 'migration',\n",
       " 'linux',\n",
       " 'levels',\n",
       " 'jpg',\n",
       " 'javascript',\n",
       " 'implementation',\n",
       " 'image',\n",
       " 'hospitality',\n",
       " 'help',\n",
       " 'habitational',\n",
       " 'enhancing',\n",
       " 'engineering',\n",
       " 'dev',\n",
       " 'define',\n",
       " 'debugging',\n",
       " 'csa',\n",
       " 'content',\n",
       " 'consumer',\n",
       " 'clipboard',\n",
       " 'bookmark',\n",
       " 'appdata',\n",
       " 'activities',\n",
       " 'achievements',\n",
       " 'ability',\n",
       " '_goback',\n",
       " '4',\n",
       " '2',\n",
       " '1',\n",
       " '0']"
      ]
     },
     "execution_count": 26,
     "metadata": {},
     "output_type": "execute_result"
    }
   ],
   "source": [
    "r = Rake()\n",
    "r.extract_keywords_from_text(resume_text)\n",
    "\n",
    "skill_list = r.get_ranked_phrases()\n",
    "skill_list"
   ]
  },
  {
   "cell_type": "code",
   "execution_count": 27,
   "metadata": {},
   "outputs": [],
   "source": [
    "# This will create list of relevant words\n",
    "lookup = []\n",
    "for elem in resume_lines:\n",
    "    temp_list= elem.split(',')\n",
    "    for i in temp_list:\n",
    "        lookup.append(i)\n",
    "# lookup"
   ]
  },
  {
   "cell_type": "code",
   "execution_count": 28,
   "metadata": {},
   "outputs": [],
   "source": [
    "# A master lookup file\n",
    "lookup_master = []\n",
    "for elem in lookup:\n",
    "    temp_list= elem.split(' ')\n",
    "    for i in temp_list:\n",
    "        lookup_master.append(i)\n",
    "        "
   ]
  },
  {
   "cell_type": "code",
   "execution_count": 29,
   "metadata": {},
   "outputs": [],
   "source": [
    "# Importing our skill file\n",
    "file = ''\n",
    "base_path = os.path.dirname(file)\n",
    "file = os.path.join(base_path,\"data_files/SKILLS_1.txt\")\n",
    "file = open(file, \"r\", encoding='utf-8')    \n",
    "skill_file = [line.strip().lower() for line in file]"
   ]
  },
  {
   "cell_type": "code",
   "execution_count": 30,
   "metadata": {},
   "outputs": [],
   "source": [
    "# Stage 1 Match\n",
    "match=[]\n",
    "for skill in skill_file:\n",
    "    for job_skill in skill_list:\n",
    "        if skill.upper() in job_skill.strip().upper():\n",
    "            match.append(skill)\n",
    "# set(match)"
   ]
  },
  {
   "cell_type": "code",
   "execution_count": 31,
   "metadata": {},
   "outputs": [],
   "source": [
    "final = []\n",
    "for item in match:\n",
    "    for master_item in lookup_master:\n",
    "        if item.lower()==master_item.lower().strip():\n",
    "            final.append(item.upper())"
   ]
  },
  {
   "cell_type": "code",
   "execution_count": 32,
   "metadata": {},
   "outputs": [
    {
     "data": {
      "text/plain": [
       "{'',\n",
       " 'BPM',\n",
       " 'C',\n",
       " 'COMPUTER',\n",
       " 'DEBUGGING',\n",
       " 'DOCUMENTATION',\n",
       " 'HOSPITALITY',\n",
       " 'HTML',\n",
       " 'IMPLEMENTATION',\n",
       " 'JAVASCRIPT',\n",
       " 'LINUX',\n",
       " 'MANAGEMENT',\n",
       " 'MIGRATION',\n",
       " 'PEGA',\n",
       " 'PHP',\n",
       " 'PRPC',\n",
       " 'QA',\n",
       " 'REPORTING',\n",
       " 'RETAIL',\n",
       " 'SQL',\n",
       " 'TECHNOLOGY',\n",
       " 'UNIX'}"
      ]
     },
     "execution_count": 32,
     "metadata": {},
     "output_type": "execute_result"
    }
   ],
   "source": [
    "set(final)"
   ]
  },
  {
   "cell_type": "code",
   "execution_count": 33,
   "metadata": {},
   "outputs": [],
   "source": [
    "# Create counter\n",
    "word_count = collections.Counter(lookup_master)\n",
    "WordCount = {k.upper():v for k,v in word_count.items()}"
   ]
  },
  {
   "cell_type": "code",
   "execution_count": 34,
   "metadata": {},
   "outputs": [
    {
     "data": {
      "text/plain": [
       "{'': 33,\n",
       " 'PRPC': 9,\n",
       " 'JAVASCRIPT': 1,\n",
       " 'QA': 1,\n",
       " 'SQL': 1,\n",
       " 'PHP': 1,\n",
       " 'HTML': 1,\n",
       " 'COMPUTER': 1,\n",
       " 'RETAIL': 1,\n",
       " 'REPORTING': 1,\n",
       " 'PEGA': 5,\n",
       " 'DOCUMENTATION': 2,\n",
       " 'DEBUGGING': 1,\n",
       " 'UNIX': 1,\n",
       " 'BPM': 2,\n",
       " 'C': 1,\n",
       " 'IMPLEMENTATION': 1,\n",
       " 'TECHNOLOGY': 2,\n",
       " 'HOSPITALITY': 1,\n",
       " 'MANAGEMENT': 1,\n",
       " 'LINUX': 1,\n",
       " 'MIGRATION': 1}"
      ]
     },
     "execution_count": 34,
     "metadata": {},
     "output_type": "execute_result"
    }
   ],
   "source": [
    "word_dict={}\n",
    "for item in list(set(final)):\n",
    "    key = item\n",
    "\n",
    "    value = WordCount[key]\n",
    "    temp_dict = {key:value}\n",
    "    word_dict.update(temp_dict)\n",
    "word_dict"
   ]
  },
  {
   "cell_type": "code",
   "execution_count": 38,
   "metadata": {},
   "outputs": [],
   "source": [
    "num_of_words = len(resume_lines)\n",
    "resume_segments = resumeparse.segment(resume_lines)"
   ]
  },
  {
   "cell_type": "code",
   "execution_count": 39,
   "metadata": {},
   "outputs": [
    {
     "data": {
      "text/plain": [
       "61"
      ]
     },
     "execution_count": 39,
     "metadata": {},
     "output_type": "execute_result"
    }
   ],
   "source": [
    "num_of_words"
   ]
  },
  {
   "cell_type": "code",
   "execution_count": null,
   "metadata": {},
   "outputs": [],
   "source": []
  }
 ],
 "metadata": {
  "kernelspec": {
   "display_name": "Python 3",
   "language": "python",
   "name": "python3"
  },
  "language_info": {
   "codemirror_mode": {
    "name": "ipython",
    "version": 3
   },
   "file_extension": ".py",
   "mimetype": "text/x-python",
   "name": "python",
   "nbconvert_exporter": "python",
   "pygments_lexer": "ipython3",
   "version": "3.7.6"
  }
 },
 "nbformat": 4,
 "nbformat_minor": 4
}
