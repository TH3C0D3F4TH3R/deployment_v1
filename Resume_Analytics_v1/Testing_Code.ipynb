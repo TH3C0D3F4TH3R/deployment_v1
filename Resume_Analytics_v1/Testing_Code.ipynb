{
 "cells": [
  {
   "cell_type": "code",
   "execution_count": 1,
   "metadata": {},
   "outputs": [
    {
     "name": "stderr",
     "output_type": "stream",
     "text": [
      "D:\\ProgramData\\Anaconda3\\lib\\site-packages\\spacy\\util.py:275: UserWarning: [W031] Model 'en_training' (0.0.0) requires spaCy v2.2 and is incompatible with the current spaCy version (2.3.2). This may lead to unexpected results or runtime errors. To resolve this, download a newer compatible model or retrain your custom model with the current spaCy version. For more details and available updates, run: python -m spacy validate\n",
      "  warnings.warn(warn_msg)\n"
     ]
    }
   ],
   "source": [
    "from data_parser import resumeparse,base_path\n",
    "from file_reader import read_file\n",
    "import os\n",
    "import re\n",
    "from selenium import webdriver\n",
    "from bs4 import BeautifulSoup as bs\n",
    "import time\n",
    "from urllib.request import urlopen\n",
    "import json\n",
    "from pandas.io.json import json_normalize\n",
    "import pandas as pd, numpy as np\n",
    "import requests\n",
    "import itertools\n",
    "from time import sleep\n",
    "import nltk\n",
    "import spacy\n",
    "from spacy.matcher import Matcher\n",
    "from spacy.matcher import PhraseMatcher\n",
    "nlp = spacy.load('en_core_web_sm')\n"
   ]
  },
  {
   "cell_type": "code",
   "execution_count": 2,
   "metadata": {},
   "outputs": [],
   "source": [
    "from resume_reader_main import main"
   ]
  },
  {
   "cell_type": "code",
   "execution_count": 3,
   "metadata": {},
   "outputs": [],
   "source": [
    "#Java Script Developer Jobs\n",
    "out = main('Resume/Akhil singh_Javasccript developer_Hyderabad_5 yrs_exp.pdf','http://www.jobserve.com/JXTG1')"
   ]
  },
  {
   "cell_type": "code",
   "execution_count": 4,
   "metadata": {},
   "outputs": [
    {
     "data": {
      "text/plain": [
       "{'num_pages': 3,\n",
       " 'num_of_words': 65,\n",
       " 'email': 'AKHIL.SINGH97@GMAIL.COM',\n",
       " 'phone': '(+91)-9971847660',\n",
       " 'name': 'AKHIL SINGH',\n",
       " 'total_exp': 4,\n",
       " 'university': [],\n",
       " 'designition': ['web developer', 'application support'],\n",
       " 'degree': [],\n",
       " 'skills': ['JAVASCRIPT',\n",
       "  'HTML5',\n",
       "  'CSS3',\n",
       "  'OBJECT ORIENTED PROGRAMMING',\n",
       "  'FRAMEWORK/LIBRARIES  ANGULAR7',\n",
       "  'ANGULAR2',\n",
       "  'BOOTSTRAP',\n",
       "  'JQUERY',\n",
       "  'HIGHCHARTS',\n",
       "  'KENDOUI',\n",
       "  'OTHERS GIT',\n",
       "  'JIRA'],\n",
       " 'number_of_skills': 12,\n",
       " 'Job_Data': {'job_title': 'Senior Full-Stack Developer',\n",
       "  'job_type': 'Permanent',\n",
       "  'posted_by': 'Talent',\n",
       "  'posted_date': 'Friday, 25 December 2020',\n",
       "  'job_skills': ['DYNAMICS',\n",
       "   'PROGRAMMING',\n",
       "   'CRM',\n",
       "   'SOFTWARE',\n",
       "   'JAVASCRIPT',\n",
       "   'IMPLEMENTATION',\n",
       "   'HTML5',\n",
       "   'ASP',\n",
       "   'CSS',\n",
       "   'JQUERY',\n",
       "   'HTML',\n",
       "   'FRAMEWORK'],\n",
       "  'job_skill_count': {'DYNAMICS': 1,\n",
       "   'PROGRAMMING': 1,\n",
       "   'CRM': 1,\n",
       "   'SOFTWARE': 1,\n",
       "   'JAVASCRIPT': 1,\n",
       "   'IMPLEMENTATION': 1,\n",
       "   'HTML5': 1,\n",
       "   'ASP': 1,\n",
       "   'CSS': 1,\n",
       "   'JQUERY': 1,\n",
       "   'HTML': 1,\n",
       "   'FRAMEWORK': 1},\n",
       "  'num_of_job_skills': 12,\n",
       "  'matched_skills': ['JAVASCRIPT', 'HTML5', 'JQUERY'],\n",
       "  'matched_skill_count': 3,\n",
       "  'unmatched_skill_count': 9}}"
      ]
     },
     "execution_count": 4,
     "metadata": {},
     "output_type": "execute_result"
    }
   ],
   "source": [
    "out"
   ]
  },
  {
   "cell_type": "code",
   "execution_count": 5,
   "metadata": {
    "scrolled": true
   },
   "outputs": [
    {
     "data": {
      "text/plain": [
       "{'num_pages': 3,\n",
       " 'num_of_words': 65,\n",
       " 'email': 'AKHIL.SINGH97@GMAIL.COM',\n",
       " 'phone': '(+91)-9971847660',\n",
       " 'name': 'AKHIL SINGH',\n",
       " 'total_exp': 4,\n",
       " 'university': [],\n",
       " 'designition': ['web developer', 'application support'],\n",
       " 'degree': [],\n",
       " 'skills': ['JAVASCRIPT',\n",
       "  'HTML5',\n",
       "  'CSS3',\n",
       "  'OBJECT ORIENTED PROGRAMMING',\n",
       "  'FRAMEWORK/LIBRARIES  ANGULAR7',\n",
       "  'ANGULAR2',\n",
       "  'BOOTSTRAP',\n",
       "  'JQUERY',\n",
       "  'HIGHCHARTS',\n",
       "  'KENDOUI',\n",
       "  'OTHERS GIT',\n",
       "  'JIRA'],\n",
       " 'number_of_skills': 12,\n",
       " 'Job_Data': {'job_title': 'Senior Full-Stack Developer',\n",
       "  'job_type': 'Permanent',\n",
       "  'posted_by': 'Talent',\n",
       "  'posted_date': 'Friday, 25 December 2020',\n",
       "  'job_skills': ['DYNAMICS',\n",
       "   'PROGRAMMING',\n",
       "   'CRM',\n",
       "   'SOFTWARE',\n",
       "   'JAVASCRIPT',\n",
       "   'IMPLEMENTATION',\n",
       "   'HTML5',\n",
       "   'ASP',\n",
       "   'CSS',\n",
       "   'JQUERY',\n",
       "   'HTML',\n",
       "   'FRAMEWORK'],\n",
       "  'job_skill_count': {'DYNAMICS': 1,\n",
       "   'PROGRAMMING': 1,\n",
       "   'CRM': 1,\n",
       "   'SOFTWARE': 1,\n",
       "   'JAVASCRIPT': 1,\n",
       "   'IMPLEMENTATION': 1,\n",
       "   'HTML5': 1,\n",
       "   'ASP': 1,\n",
       "   'CSS': 1,\n",
       "   'JQUERY': 1,\n",
       "   'HTML': 1,\n",
       "   'FRAMEWORK': 1},\n",
       "  'num_of_job_skills': 12,\n",
       "  'matched_skills': ['JAVASCRIPT', 'HTML5', 'JQUERY'],\n",
       "  'matched_skill_count': 3,\n",
       "  'unmatched_skill_count': 9}}"
      ]
     },
     "execution_count": 5,
     "metadata": {},
     "output_type": "execute_result"
    }
   ],
   "source": [
    "#Java Script Developer Jobs\n",
    "main('Resume/Akhil singh_Javasccript developer_Hyderabad_5 yrs_exp.pdf','http://www.jobserve.com/JXTG1')"
   ]
  },
  {
   "cell_type": "code",
   "execution_count": 6,
   "metadata": {
    "scrolled": true
   },
   "outputs": [
    {
     "data": {
      "text/plain": [
       "{'num_pages': 0,\n",
       " 'num_of_words': 58,\n",
       " 'email': 'ajayvarma542@gmail.com',\n",
       " 'phone': '9542018181',\n",
       " 'name': 'Ajay Kumar',\n",
       " 'total_exp': 0,\n",
       " 'university': ['osmania university'],\n",
       " 'designition': ['system architect',\n",
       "  'quality assurance',\n",
       "  'software developer',\n",
       "  'pega developer',\n",
       "  'planning manager',\n",
       "  'delivery manager'],\n",
       " 'degree': ['Bachelor of Engineering',\n",
       "  'Bachelor of Engineering in Information Technology'],\n",
       " 'skills': ['',\n",
       "  'OPERATING SYSTEMS',\n",
       "  'WINDOWS10',\n",
       "  '8',\n",
       "  '7',\n",
       "  'CLANGUAGE',\n",
       "  'QUERY LANGUAGE',\n",
       "  'SQL',\n",
       "  'PL/SQL',\n",
       "  'WEBRELATED TECHNOLOGIES',\n",
       "  'HTML CSS',\n",
       "  'TOOL  UTILITIES',\n",
       "  'PEGA'],\n",
       " 'number_of_skills': 13,\n",
       " 'Job_Data': {'job_title': 'Java developer/Software Engineer',\n",
       "  'job_type': 'Permanent',\n",
       "  'posted_by': 'Talent',\n",
       "  'posted_date': 'Friday, 25 December 2020',\n",
       "  'job_skills': ['SPRING',\n",
       "   'AGILE',\n",
       "   'ANGULAR',\n",
       "   'REPORTING',\n",
       "   'IMPACT',\n",
       "   'JAVA',\n",
       "   'KOTLIN',\n",
       "   'IMPLEMENTATION',\n",
       "   'TECHNOLOGY',\n",
       "   'CONFIGURATION',\n",
       "   'MANAGEMENT',\n",
       "   'IT',\n",
       "   'SQL',\n",
       "   'AWS',\n",
       "   'SECURITY',\n",
       "   'REACT'],\n",
       "  'job_skill_count': {'SPRING': 1,\n",
       "   'AGILE': 1,\n",
       "   'ANGULAR': 1,\n",
       "   'REPORTING': 1,\n",
       "   'IMPACT': 1,\n",
       "   'JAVA': 1,\n",
       "   'KOTLIN': 1,\n",
       "   'IMPLEMENTATION': 1,\n",
       "   'TECHNOLOGY': 1,\n",
       "   'CONFIGURATION': 1,\n",
       "   'MANAGEMENT': 1,\n",
       "   'IT': 1,\n",
       "   'SQL': 1,\n",
       "   'AWS': 1,\n",
       "   'SECURITY': 1,\n",
       "   'REACT': 1},\n",
       "  'num_of_job_skills': 16,\n",
       "  'matched_skills': ['SQL'],\n",
       "  'matched_skill_count': 1,\n",
       "  'unmatched_skill_count': 15}}"
      ]
     },
     "execution_count": 6,
     "metadata": {},
     "output_type": "execute_result"
    }
   ],
   "source": [
    "\n",
    "main('Resume/Ajay Martha-Pega CSSA_Hyderabad.docx','http://www.jobserve.com/JXTG2')"
   ]
  },
  {
   "cell_type": "code",
   "execution_count": 7,
   "metadata": {
    "scrolled": true
   },
   "outputs": [
    {
     "data": {
      "text/plain": [
       "{'num_pages': 3,\n",
       " 'num_of_words': 65,\n",
       " 'email': 'AKHIL.SINGH97@GMAIL.COM',\n",
       " 'phone': '(+91)-9971847660',\n",
       " 'name': 'AKHIL SINGH',\n",
       " 'total_exp': 4,\n",
       " 'university': [],\n",
       " 'designition': ['web developer', 'application support'],\n",
       " 'degree': [],\n",
       " 'skills': ['JAVASCRIPT',\n",
       "  'HTML5',\n",
       "  'CSS3',\n",
       "  'OBJECT ORIENTED PROGRAMMING',\n",
       "  'FRAMEWORK/LIBRARIES  ANGULAR7',\n",
       "  'ANGULAR2',\n",
       "  'BOOTSTRAP',\n",
       "  'JQUERY',\n",
       "  'HIGHCHARTS',\n",
       "  'KENDOUI',\n",
       "  'OTHERS GIT',\n",
       "  'JIRA'],\n",
       " 'number_of_skills': 12,\n",
       " 'Job_Data': {'job_title': 'Senior Full-Stack Developer',\n",
       "  'job_type': 'Permanent',\n",
       "  'posted_by': 'Talent',\n",
       "  'posted_date': 'Friday, 25 December 2020',\n",
       "  'job_skills': ['DYNAMICS',\n",
       "   'PROGRAMMING',\n",
       "   'CRM',\n",
       "   'SOFTWARE',\n",
       "   'JAVASCRIPT',\n",
       "   'IMPLEMENTATION',\n",
       "   'HTML5',\n",
       "   'ASP',\n",
       "   'CSS',\n",
       "   'JQUERY',\n",
       "   'HTML',\n",
       "   'FRAMEWORK'],\n",
       "  'job_skill_count': {'DYNAMICS': 1,\n",
       "   'PROGRAMMING': 1,\n",
       "   'CRM': 1,\n",
       "   'SOFTWARE': 1,\n",
       "   'JAVASCRIPT': 1,\n",
       "   'IMPLEMENTATION': 1,\n",
       "   'HTML5': 1,\n",
       "   'ASP': 1,\n",
       "   'CSS': 1,\n",
       "   'JQUERY': 1,\n",
       "   'HTML': 1,\n",
       "   'FRAMEWORK': 1},\n",
       "  'num_of_job_skills': 12,\n",
       "  'matched_skills': ['JAVASCRIPT', 'HTML5', 'JQUERY'],\n",
       "  'matched_skill_count': 3,\n",
       "  'unmatched_skill_count': 9}}"
      ]
     },
     "execution_count": 7,
     "metadata": {},
     "output_type": "execute_result"
    }
   ],
   "source": [
    "main('Resume/Akhil singh_Javasccript developer_Hyderabad_5 yrs_exp.pdf','http://www.jobserve.com/JXTG1')"
   ]
  },
  {
   "cell_type": "code",
   "execution_count": null,
   "metadata": {},
   "outputs": [],
   "source": []
  },
  {
   "cell_type": "code",
   "execution_count": null,
   "metadata": {},
   "outputs": [],
   "source": []
  }
 ],
 "metadata": {
  "kernelspec": {
   "display_name": "Python 3",
   "language": "python",
   "name": "python3"
  },
  "language_info": {
   "codemirror_mode": {
    "name": "ipython",
    "version": 3
   },
   "file_extension": ".py",
   "mimetype": "text/x-python",
   "name": "python",
   "nbconvert_exporter": "python",
   "pygments_lexer": "ipython3",
   "version": "3.7.6"
  }
 },
 "nbformat": 4,
 "nbformat_minor": 4
}
