{
 "cells": [
  {
   "cell_type": "code",
   "execution_count": 1,
   "metadata": {},
   "outputs": [
    {
     "name": "stderr",
     "output_type": "stream",
     "text": [
      "D:\\ProgramData\\Anaconda3\\lib\\site-packages\\spacy\\util.py:275: UserWarning: [W031] Model 'en_training' (0.0.0) requires spaCy v2.2 and is incompatible with the current spaCy version (2.3.2). This may lead to unexpected results or runtime errors. To resolve this, download a newer compatible model or retrain your custom model with the current spaCy version. For more details and available updates, run: python -m spacy validate\n",
      "  warnings.warn(warn_msg)\n"
     ]
    }
   ],
   "source": [
    "from data_parser import resumeparse,base_path\n",
    "from file_reader import read_file\n",
    "import os\n",
    "import re\n",
    "from selenium import webdriver\n",
    "from bs4 import BeautifulSoup as bs\n",
    "import time\n",
    "from urllib.request import urlopen\n",
    "import json\n",
    "from pandas.io.json import json_normalize\n",
    "import pandas as pd, numpy as np\n",
    "import requests\n",
    "import itertools\n",
    "from explicit import waiter, XPATH\n",
    "from selenium.webdriver.support.ui import WebDriverWait\n",
    "from selenium.webdriver.support import expected_conditions as EC\n",
    "from selenium.webdriver.common.by import By\n",
    "from time import sleep\n",
    "from selenium.webdriver.support.ui import Select\n",
    "from selenium.webdriver.support.select import Select\n",
    "from selenium.webdriver.common.keys import Keys\n",
    "from selenium.webdriver.common.action_chains import ActionChains\n",
    "import nltk\n",
    "import spacy\n",
    "from spacy.matcher import Matcher\n",
    "from spacy.matcher import PhraseMatcher\n",
    "nlp = spacy.load('en_core_web_sm')\n"
   ]
  },
  {
   "cell_type": "code",
   "execution_count": 2,
   "metadata": {},
   "outputs": [],
   "source": [
    "from job_posting import job_posting"
   ]
  },
  {
   "cell_type": "code",
   "execution_count": 3,
   "metadata": {},
   "outputs": [],
   "source": [
    "from resume_reader_main import main"
   ]
  },
  {
   "cell_type": "code",
   "execution_count": 4,
   "metadata": {},
   "outputs": [],
   "source": [
    "# link = 'https://www.jobserve.com/au/en/search-jobs-in-Sydney,-New-South-Wales,-Australia/SOFTWARE-ENGINEER-8AEFED7550B6B82E0E/'\n",
    "# link = 'https://www.jobserve.com/au/en/search-jobs-in-Melbourne,-Victoria,-Australia/SENIOR-DEVELOPER-77AA2B73F57038DB50/'\n",
    "# link = 'https://www.jobserve.com/au/en/search-jobs-in-Melbourne,-Victoria,-Australia/SENIOR-FULL-STACK-DEVELOPER-4C2E562B72E8FEDDFA/'\n",
    "# link = 'https://www.jobserve.com/au/en/search-jobs-in-Sydney,-New-South-Wales,-Australia/2-X-MID-LEVEL-JAVA-DEVELOPERS-8674E9C8144CC5EA9E/'\n",
    "link = 'http://www.jobserve.com/JRrGd'"
   ]
  },
  {
   "cell_type": "code",
   "execution_count": 5,
   "metadata": {},
   "outputs": [
    {
     "name": "stdout",
     "output_type": "stream",
     "text": [
      "['2 x Mid-level Java Developers', 'Sydney, Sydney - AUD', 'Permanent', 'Posted by: TheDriveGroup', 'Posted: Thursday, 17 December 2020', 'Apply']\n",
      "IT\n"
     ]
    },
    {
     "data": {
      "text/plain": [
       "{'num_pages': 3,\n",
       " 'email': 'AKHIL.SINGH97@GMAIL.COM',\n",
       " 'phone': '(+91)-9971847660',\n",
       " 'name': 'AKHIL SINGH',\n",
       " 'total_exp': 4,\n",
       " 'university': [],\n",
       " 'designition': ['web developer', 'application support'],\n",
       " 'degree': [],\n",
       " 'skills': ['\\u200b- JavaScript',\n",
       "  ' HTML5',\n",
       "  ' CSS3',\n",
       "  ' Object Oriented Programming.',\n",
       "  'Framework/Libraries \\u200b– Angular7',\n",
       "  ' Angular2',\n",
       "  ' Bootstrap',\n",
       "  ' jQuery',\n",
       "  ' Highcharts',\n",
       "  ' KendoUI',\n",
       "  'Others\\u200b: Git',\n",
       "  ' JIRA'],\n",
       " 'matched_skills': [' HTML5', ' jQuery'],\n",
       " 'job_requirement_phrase': ['HTML5 and CSS3',\n",
       "  'JavaScript, TypeScript, jQuery',\n",
       "  'Their team of Back End developers is building Java microservices using the latest AWS technologies creating systems that are highly available and can scale.',\n",
       "  'Microservices Architecture',\n",
       "  'Their team of Back End developers is building Java microservices using the latest AWS technologies creating systems that are highly available and can scale.',\n",
       "  'Their team of Back End developers is building Java microservices using the latest AWS technologies creating systems that are highly available and can scale.',\n",
       "  'Docker',\n",
       "  'Job description We are working for a very cool FinTech company that is in the market for energetic and humble Back-End engineers to join their highly motivated and talented team.',\n",
       "  'Job description We are working for a very cool FinTech company that is in the market for energetic and humble Back-End engineers to join their highly motivated and talented team.',\n",
       "  'Git',\n",
       "  'Spring, Spring MVC, Spring Boot, Hibernate',\n",
       "  'Banking, finance, or Insurance experience',\n",
       "  'Their team of Back End developers is building Java microservices using the latest AWS technologies creating systems that are highly available and can scale.',\n",
       "  'Extensive Java Experience',\n",
       "  'Their team of Back End developers is building Java microservices using the latest AWS technologies creating systems that are highly available and can scale.',\n",
       "  'Microservices Architecture',\n",
       "  'This platform is expanding globally, and with this expansion comes new challenges such as distributed data storage, and processing and performance improvements.',\n",
       "  'This is an immediate need and they have 2 roles currently open. On offer are very competitive salaries, a range of perks and benefits as well as challenging and exciting work with some of the best minds in the industry.',\n",
       "  'Strong SQL Experience',\n",
       "  'Spring, Spring MVC, Spring Boot, Hibernate',\n",
       "  'Web Services (REST/SOAP)'],\n",
       " 'Job_skills_requirement': ['html5',\n",
       "  'jquery',\n",
       "  'aws',\n",
       "  'architecture',\n",
       "  'building',\n",
       "  'developers',\n",
       "  'docker',\n",
       "  'engineers',\n",
       "  'fintech',\n",
       "  'git',\n",
       "  'hibernate',\n",
       "  'insurance',\n",
       "  'java',\n",
       "  'java',\n",
       "  'microservices',\n",
       "  'microservices',\n",
       "  'processing',\n",
       "  'range',\n",
       "  'sql',\n",
       "  'spring',\n",
       "  'web']}"
      ]
     },
     "execution_count": 5,
     "metadata": {},
     "output_type": "execute_result"
    }
   ],
   "source": [
    "main('Akhil singh_Javasccript developer_Hyderabad_5 yrs_exp.pdf',link)"
   ]
  },
  {
   "cell_type": "code",
   "execution_count": null,
   "metadata": {},
   "outputs": [],
   "source": []
  },
  {
   "cell_type": "code",
   "execution_count": null,
   "metadata": {},
   "outputs": [],
   "source": []
  }
 ],
 "metadata": {
  "kernelspec": {
   "display_name": "Python 3",
   "language": "python",
   "name": "python3"
  },
  "language_info": {
   "codemirror_mode": {
    "name": "ipython",
    "version": 3
   },
   "file_extension": ".py",
   "mimetype": "text/x-python",
   "name": "python",
   "nbconvert_exporter": "python",
   "pygments_lexer": "ipython3",
   "version": "3.7.6"
  }
 },
 "nbformat": 4,
 "nbformat_minor": 4
}
